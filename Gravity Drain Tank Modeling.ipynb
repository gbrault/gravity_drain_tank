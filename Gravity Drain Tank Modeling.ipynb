{
 "cells": [
  {
   "cell_type": "markdown",
   "metadata": {},
   "source": [
    "# Gravity Drain Tank Modeling"
   ]
  },
  {
   "cell_type": "code",
   "execution_count": 1,
   "metadata": {},
   "outputs": [],
   "source": [
    "from math import pi\n",
    "import numpy as np\n",
    "import branca\n",
    "from ipywidgets import VBox, FloatSlider, Output, Button, Label\n",
    "from ipycanvas import Canvas, MultiCanvas, hold_canvas"
   ]
  },
  {
   "cell_type": "code",
   "execution_count": 2,
   "metadata": {},
   "outputs": [],
   "source": [
    "import numpy as np\n",
    "from scipy.integrate import odeint\n",
    "import time"
   ]
  },
  {
   "cell_type": "code",
   "execution_count": 3,
   "metadata": {},
   "outputs": [],
   "source": [
    "class Plot(MultiCanvas):\n",
    "    def __init__(self, x, y, color=None, scheme=branca.colormap.linear.RdBu_11):\n",
    "        super(Plot, self).__init__(3, width=800, height=600, sync_image_data=True)\n",
    "\n",
    "        self.color = color\n",
    "        self.scheme = scheme\n",
    "        \n",
    "        self.background_color = '#f7f7f7'\n",
    "\n",
    "        self.init_plot(x, y)\n",
    "\n",
    "    def init_plot(self, x, y, color=None, scheme=None):\n",
    "        self.x = x\n",
    "        self.y = y\n",
    "        self.color = color if color is not None else self.color\n",
    "        self.scheme = scheme if scheme is not None else self.scheme\n",
    "\n",
    "        padding = 0.0\n",
    "        padding_x = padding * self.size[0]\n",
    "        padding_y = padding * self.size[1]\n",
    "\n",
    "        # TODO Fix drawarea max: It should be (canvas.size - padding)\n",
    "        self.drawarea = (drawarea_min_x, drawarea_min_y, drawarea_max_x, drawarea_max_y) = (padding_x, padding_y, self.size[0] - 2 * padding_x, self.size[1] - 2 * padding_y)\n",
    "\n",
    "        min_x, min_y, max_x, max_y = np.min(x), np.min(y), np.max(x), np.max(y)\n",
    "\n",
    "        dx = max_x - min_x\n",
    "        dy = max_y - min_y\n",
    "\n",
    "        # Turns a data coordinate into pixel coordinate\n",
    "        self.scale_x = lambda x: drawarea_max_x * (x - min_x) / dx + drawarea_min_x\n",
    "        self.scale_y = lambda y: drawarea_max_y * (1 - (y - min_y) / dy) + drawarea_min_y\n",
    "\n",
    "        # Turns a pixel coordinate into data coordinate\n",
    "        self.unscale_x = lambda sx: (sx - drawarea_min_x) * dx / drawarea_max_x + min_x\n",
    "        self.unscale_y = lambda sy: (1 - ((sy - drawarea_min_y) / drawarea_max_y)) * dy + min_y\n",
    "\n",
    "        self.colormap = None\n",
    "        if self.color is not None:\n",
    "            self.colormap = self.scheme.scale(np.min(self.color), np.max(self.color))\n",
    "\n",
    "    def draw_background(self):\n",
    "        drawarea_min_x, drawarea_min_y, drawarea_max_x, drawarea_max_y = self.drawarea\n",
    "\n",
    "        padding = 0.1\n",
    "        offset_min_x = padding * self.size[0]\n",
    "        offset_min_y = padding * self.size[1]\n",
    "        offset_max_x = self.size[0] - 2 * offset_min_x \n",
    "        offset_max_y = self.size[1] - 2 * offset_min_y\n",
    "        \n",
    "        background = self[0]\n",
    "\n",
    "        # Draw background\n",
    "        background.fill_style = self.background_color\n",
    "        background.global_alpha = 0.3\n",
    "        background.fill_rect(drawarea_min_x, drawarea_min_y, drawarea_max_x, drawarea_max_y)\n",
    "        background.global_alpha = 1\n",
    "\n",
    "        # Draw grid and ticks\n",
    "        n_lines = 10\n",
    "        background.fill_style = 'black'\n",
    "        background.stroke_style = '#8c8c8c'\n",
    "        background.line_width = 1\n",
    "        background.begin_path()\n",
    "\n",
    "        for i in range(n_lines):\n",
    "            j = i / (n_lines - 1)\n",
    "            line_x = drawarea_max_x * j + drawarea_min_x\n",
    "            line_y = drawarea_max_y * j + drawarea_min_y\n",
    "\n",
    "            # Line on the y axis\n",
    "            background.move_to(line_x, drawarea_min_y)\n",
    "            background.line_to(line_x, drawarea_max_y + drawarea_min_y)\n",
    "\n",
    "            # Line on the x axis\n",
    "            background.move_to(drawarea_min_x, line_y)\n",
    "            background.line_to(drawarea_max_x + drawarea_min_x, line_y)\n",
    "            \n",
    "            # Draw y tick\n",
    "            background.text_align = 'right'\n",
    "            background.text_baseline = 'middle'\n",
    "            #background.fill_text('{0:.2e}'.format(self.unscale_y(line_y)), drawarea_min_x * 0.95, line_y)            \n",
    "            background.fill_text('{0:.2f}'.format(self.unscale_y(line_y)), offset_min_x * 0.95, line_y)\n",
    "\n",
    "            # Draw x tick\n",
    "            background.text_align = 'center'\n",
    "            background.text_baseline = 'top'\n",
    "            #background.fill_text('{0:.2e}'.format(self.unscale_x(line_x)), line_x, drawarea_max_y + drawarea_min_y + drawarea_min_y * 0.05)\n",
    "            background.fill_text('{0:.2f}'.format(self.unscale_x(line_x)), line_x, offset_max_y + offset_min_y + offset_min_y * 0.05)\n",
    "\n",
    "        background.stroke()\n",
    "        background.close_path()"
   ]
  },
  {
   "cell_type": "code",
   "execution_count": 4,
   "metadata": {},
   "outputs": [],
   "source": [
    "class Torricelli_Path(Plot):\n",
    "    def __init__(self, x, y, line_color='#3380FF', line_width=2, bkg=False, D=1, h0=1):\n",
    "        super(Torricelli_Path, self).__init__(x, y)\n",
    "\n",
    "        self.line_color = line_color\n",
    "        self.line_width = line_width\n",
    "        self.bkg = bkg\n",
    "        self.D = D\n",
    "        self.h0 = h0\n",
    "        self.h = h0\n",
    "\n",
    "        self.draw()\n",
    "\n",
    "    def update(self, x, y, h, line_color=None, line_width=None):\n",
    "        self.init_plot(x, y)\n",
    "        self.h = h\n",
    "\n",
    "        self.line_color = line_color if line_color is not None else self.line_color\n",
    "        self.line_width = line_width if line_width is not None else self.line_width\n",
    "\n",
    "        self.draw()\n",
    "        \n",
    "    def construct(self,D,h0):\n",
    "        self.h0 = h0\n",
    "        self.D = D\n",
    "\n",
    "    def draw(self):\n",
    "        with hold_canvas(self):\n",
    "            self.clear()\n",
    "            plot_layer = self[1]\n",
    "            plot_layer.save()\n",
    "\n",
    "            if self.bkg:\n",
    "                self.draw_background()\n",
    "\n",
    "            # Draw lines\n",
    "            n_points = min(self.x.shape[0], self.y.shape[0])\n",
    "\n",
    "            plot_layer.begin_path()\n",
    "            plot_layer.stroke_style = self.line_color\n",
    "            plot_layer.line_width = self.line_width\n",
    "            plot_layer.line_join = 'bevel'\n",
    "            plot_layer.line_cap = 'round'\n",
    "            plot_layer.move_to(self.scale_x(self.x[1]), self.scale_y(self.y[1]))\n",
    "            for idx in range(2, n_points):\n",
    "                plot_layer.line_to(\n",
    "                    self.scale_x(self.x[idx]), self.scale_y(self.y[idx])\n",
    "                )\n",
    "\n",
    "            plot_layer.stroke()\n",
    "            plot_layer.close_path()\n",
    "            plot_layer.fill_style = self.line_color\n",
    "            plot_layer.fill_rect(0,self.scale_y(-self.h0),self.scale_x(self.D),self.scale_y(self.h))            \n",
    "            plot_layer.stroke_style = \"black\"\n",
    "            plot_layer.stroke_rect(0,self.scale_y(-self.h0),self.scale_x(self.D),self.scale_y(self.h0)) \n",
    "            plot_layer.restore()"
   ]
  },
  {
   "cell_type": "markdown",
   "metadata": {},
   "source": [
    "# Experiment"
   ]
  },
  {
   "cell_type": "markdown",
   "metadata": {},
   "source": [
    "![](tank.svg)"
   ]
  },
  {
   "cell_type": "markdown",
   "metadata": {
    "colab_type": "text",
    "id": "xSIqWFm93OPg",
    "nbpages": {
     "level": 2,
     "link": "[2.2.2 Torricelli's law](https://jckantor.github.io/CBE30338/02.02-Gravity-Drained-Tank.html#2.2.2-Torricelli's-law)",
     "section": "2.2.2 Torricelli's law"
    }
   },
   "source": [
    "## Torricelli's law\n",
    "\n",
    "Torricelli's law states the velocity of an incompressible liquid stream exiting a liquid tank at level $h$ below the surface is \n",
    "\n",
    "$$v = \\sqrt{2gh}$$ \n",
    "\n",
    "This is the same velocity as an object dropped from a height $h$. The derivation is straightforward. From Bernoulli's principle,\n",
    "\n",
    "$$\\frac{v^2}{2} + gh + \\frac{P}{\\rho} = \\text{constant}$$\n",
    "\n",
    "Applying this principle, compare a drop of water just below the surface of the water at distance $h$ above the exit, to a drop of water exiting the tank\n",
    "\n",
    "$$gh + \\frac{P_{atm}}{\\rho} = \\frac{v^2}{2} + \\frac{P_{atm}}{\\rho}$$\n",
    "\n",
    "$$\\implies v^2 = 2gh$$\n",
    "$$\\implies v = \\sqrt{2gh}$$\n",
    "\n",
    "Torricelli's law is an approximation that doesn't account for the effects of fluid viscosity, the specific flow geometry near the exit, or other flow non-idealities. Nevertheless it is a useful first approximation for flow from a tank."
   ]
  },
  {
   "cell_type": "markdown",
   "metadata": {
    "colab_type": "text",
    "id": "H8dmoxAJ3OPk",
    "nbpages": {
     "level": 2,
     "link": "[2.2.3 Mass Balance for Tank with Constant Cross-Sectional Area](https://jckantor.github.io/CBE30338/02.02-Gravity-Drained-Tank.html#2.2.3-Mass-Balance-for-Tank-with-Constant-Cross-Sectional-Area)",
     "section": "2.2.3 Mass Balance for Tank with Constant Cross-Sectional Area"
    }
   },
   "source": [
    "# Mass Balance for Tank with Constant Cross-Sectional Area\n",
    "\n",
    "For a tank with constant cross-sectional area, such as a cylindrical or rectangular tank, the liquid height is described by a differential equation\n",
    "\n",
    "$$A\\frac{dh}{dt} = q_{in}(t) - q_{out}(t)$$\n",
    "\n",
    "where $$q_{out}$$ is a function of liquid height. Torricelli's law tells the outlet flow from the tank is proportional to square root of the liquid height\n",
    "\n",
    "$$ q_{out}(h) = C_v\\sqrt{h} $$\n",
    "\n",
    "Dividing by area we obtain a nonlinear ordinary differential equation \n",
    "\n",
    "$$ \\frac{dh}{dt} = - \\frac{C_V}{A}\\sqrt{h} + \\frac{1}{A}q_{in}(t) $$\n",
    "\n",
    "in our standard form where the LHS derivative appears with a constant coefficient of 1."
   ]
  },
  {
   "cell_type": "markdown",
   "metadata": {},
   "source": [
    "# Equation Solving"
   ]
  },
  {
   "cell_type": "markdown",
   "metadata": {},
   "source": [
    "## Construction parameters"
   ]
  },
  {
   "cell_type": "code",
   "execution_count": 5,
   "metadata": {},
   "outputs": [],
   "source": [
    "A   = 1.0           # Tank area [meter^2]\n",
    "h0 = 3              # tank height\n",
    "Cv  = 0.1/60        # Outlet valve constant [cubic meters/sec/meter^1/2]"
   ]
  },
  {
   "cell_type": "markdown",
   "metadata": {},
   "source": [
    "## Physical Constants"
   ]
  },
  {
   "cell_type": "code",
   "execution_count": 6,
   "metadata": {},
   "outputs": [],
   "source": [
    "g = 9.81            # gravity constant"
   ]
  },
  {
   "cell_type": "markdown",
   "metadata": {},
   "source": [
    "## Time Horizon"
   ]
  },
  {
   "cell_type": "code",
   "execution_count": 7,
   "metadata": {},
   "outputs": [],
   "source": [
    "horizon = 20 * 60   # simulation period"
   ]
  },
  {
   "cell_type": "markdown",
   "metadata": {
    "colab": {},
    "colab_type": "code",
    "id": "qYEqVEsU3OPv",
    "nbpages": {
     "level": 3,
     "link": "[2.2.4.2 Step 2. Define parameters](https://jckantor.github.io/CBE30338/02.02-Gravity-Drained-Tank.html#2.2.4.2-Step-2.-Define-parameters)",
     "section": "2.2.4.2 Step 2. Define parameters"
    }
   },
   "source": [
    "## System Solving"
   ]
  },
  {
   "cell_type": "code",
   "execution_count": 8,
   "metadata": {
    "colab": {},
    "colab_type": "code",
    "id": "nuIhX1VO3OPy",
    "nbpages": {
     "level": 3,
     "link": "[2.2.4.3 Step 3. Write Functions for the RHS of the Differential Equations](https://jckantor.github.io/CBE30338/02.02-Gravity-Drained-Tank.html#2.2.4.3-Step-3.-Write-Functions-for-the-RHS-of-the-Differential-Equations)",
     "section": "2.2.4.3 Step 3. Write Functions for the RHS of the Differential Equations"
    }
   },
   "outputs": [],
   "source": [
    "# inlet flow rate in cubic meters/sec\n",
    "def qin(t):\n",
    "    return 0.0\n",
    "\n",
    "def deriv(h,t):\n",
    "    return qin(t)/A - Cv*np.sqrt(np.abs(h))/A"
   ]
  },
  {
   "cell_type": "code",
   "execution_count": 9,
   "metadata": {
    "colab": {},
    "colab_type": "code",
    "id": "HiA2HZcb3OP1",
    "nbpages": {
     "level": 3,
     "link": "[2.2.4.4 Step 4. Choose an Initial Condition, a Time Grid, and Integrate the Differential Equation](https://jckantor.github.io/CBE30338/02.02-Gravity-Drained-Tank.html#2.2.4.4-Step-4.-Choose-an-Initial-Condition,-a-Time-Grid,-and-Integrate-the-Differential-Equation)",
     "section": "2.2.4.4 Step 4. Choose an Initial Condition, a Time Grid, and Integrate the Differential Equation"
    }
   },
   "outputs": [],
   "source": [
    "def solver():\n",
    "    global D,t,h,v0\n",
    "    D = 2 * np.sqrt(A/pi)\n",
    "    IC = [h0]\n",
    "    t = np.linspace(0,horizon,101)\n",
    "    h = odeint(deriv,IC,t)\n",
    "    v0 = np.sqrt(2*g*np.abs(h))"
   ]
  },
  {
   "cell_type": "markdown",
   "metadata": {},
   "source": [
    "## Animating Gravity Drain Tank"
   ]
  },
  {
   "cell_type": "code",
   "execution_count": 10,
   "metadata": {},
   "outputs": [
    {
     "data": {
      "application/vnd.jupyter.widget-view+json": {
       "model_id": "29845a4344574c95bc10076142c5424b",
       "version_major": 2,
       "version_minor": 0
      },
      "text/plain": [
       "VBox(children=(Torricelli_Path(height=600, sync_image_data=True, width=800), FloatSlider(value=1.0, descriptio…"
      ]
     },
     "metadata": {},
     "output_type": "display_data"
    }
   ],
   "source": [
    "solver()\n",
    "slider = FloatSlider(description='replay time:', min=1, max=horizon, step=1)\n",
    "button = Button(description=\"Run\")\n",
    "area = FloatSlider(description='area:', value=A, min=0.005, max=2, step=0.005)\n",
    "initialheight = FloatSlider(description='initial height:', value=h0, min=0.1, max=3, step=0.1)\n",
    "tapCv = FloatSlider(description='Cv:', value=Cv*60, min=0.01, max=0.2, step=0.01)\n",
    "\n",
    "out = Output()\n",
    "t1 = np.linspace(0,0.5,101)\n",
    "x = v0[0][0] * t1 + D\n",
    "y = -0.5 * g * t1 * t1 - h0\n",
    "xmax = x[100]\n",
    "ymax = y[100]\n",
    "x = np.append(x,[xmax])\n",
    "y = np.append(y,[ymax])\n",
    "x = np.append([0.0],x)\n",
    "y = np.append([0.0],y)\n",
    "\n",
    "power_plot = Torricelli_Path(x, y, line_color='#3380FF', line_width=3, bkg=True, D=D, h0=h0)\n",
    "\n",
    "def on_slider_change(change):\n",
    "    i = int((slider.value/horizon) * 100)\n",
    "    x = v0[i][0] * t1 + D\n",
    "    y = -0.5 * g * t1 * t1 - h0\n",
    "    x = np.append(x,[xmax])\n",
    "    y = np.append(y,[ymax])\n",
    "    x = np.append([0.0],x)\n",
    "    y = np.append([0.0],y)\n",
    "    \n",
    "    if h[i][0] > 0:\n",
    "        power_plot.update(x, y, h[i][0])\n",
    "        with out:\n",
    "            out.clear_output()\n",
    "            print(f\"t:{slider.value},h:{h[i][0]}\")\n",
    "\n",
    "slider.observe(on_slider_change, 'value')\n",
    "\n",
    "def on_button_clicked(b):\n",
    "    global A, h0, xmax, ymax, Cv\n",
    "    A = area.value\n",
    "    h0 = initialheight.value\n",
    "    Cv = tapCv.value/60\n",
    "    solver()\n",
    "    x = v0[0][0] * t1 + D\n",
    "    y = -0.5 * g * t1 * t1 - h0\n",
    "    xmax = x[100]\n",
    "    ymax = y[100]\n",
    "    power_plot.construct(D,h0)\n",
    "    with out:\n",
    "        out.clear_output()\n",
    "        print(\"Run Simulation.\")\n",
    "    for i in range(0,horizon + 1, 10):\n",
    "        slider.value = i\n",
    "        time.sleep(0.2)\n",
    "\n",
    "button.on_click(on_button_clicked)\n",
    "\n",
    "VBox((power_plot, slider, button, Label(value=\"$=====$ $Tank$ $Construction$ $Parameters$  $======$\"), area, initialheight, tapCv, out))"
   ]
  },
  {
   "cell_type": "code",
   "execution_count": null,
   "metadata": {},
   "outputs": [],
   "source": []
  }
 ],
 "metadata": {
  "kernelspec": {
   "display_name": "Python 3",
   "language": "python",
   "name": "python3"
  },
  "language_info": {
   "codemirror_mode": {
    "name": "ipython",
    "version": 3
   },
   "file_extension": ".py",
   "mimetype": "text/x-python",
   "name": "python",
   "nbconvert_exporter": "python",
   "pygments_lexer": "ipython3",
   "version": "3.8.5"
  }
 },
 "nbformat": 4,
 "nbformat_minor": 4
}
